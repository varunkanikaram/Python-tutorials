{
 "cells": [
  {
   "cell_type": "code",
   "execution_count": 11,
   "metadata": {},
   "outputs": [
    {
     "name": "stdout",
     "output_type": "stream",
     "text": [
      "a is less than b\n",
      "a is definitely less than b\n",
      "not sure if a is than b\n"
     ]
    }
   ],
   "source": [
    "a = 1\n",
    "b = 2\n",
    "if a < b:\n",
    "    print(\"a is less than b\") #if clause\n",
    "    print(\"a is definitely less than b\")\n",
    "print(\"not sure if a is than b\")    "
   ]
  },
  {
   "cell_type": "code",
   "execution_count": 18,
   "metadata": {},
   "outputs": [
    {
     "name": "stdout",
     "output_type": "stream",
     "text": [
      "c is not less than d\n",
      " i don't think c is less than d\n",
      "outside the if lock\n"
     ]
    }
   ],
   "source": [
    "c = 5\n",
    "d = 4\n",
    "if c < d:\n",
    "    print(\" c is less than d\")\n",
    "else:    \n",
    "        print(\"c is not less than d\")\n",
    "        print(\" i don't think c is less than d\")\n",
    "print(\"outside the if lock\")"
   ]
  },
  {
   "cell_type": "code",
   "execution_count": 27,
   "metadata": {},
   "outputs": [
    {
     "name": "stdout",
     "output_type": "stream",
     "text": [
      "e is greater than f by more than 10\n"
     ]
    }
   ],
   "source": [
    "e = 20\n",
    "f = 8\n",
    "if e < f:\n",
    "    print(\"e is less than f\")\n",
    "elif e == f:\n",
    "        print(\"e is equal to f\")\n",
    "elif e > f + 10:\n",
    "    print(\"e is greater than f by more than 10\")\n",
    "else:\n",
    "        print(\"e is greater than f\")"
   ]
  },
  {
   "cell_type": "code",
   "execution_count": 31,
   "metadata": {},
   "outputs": [
    {
     "name": "stdout",
     "output_type": "stream",
     "text": [
      "g is greater than h\n"
     ]
    }
   ],
   "source": [
    "g = 10\n",
    "h = 8\n",
    "if g < h:\n",
    "    print(\"g is less than h\")\n",
    "else:\n",
    "    if g == h:\n",
    "        print(\"g is equal to h\")\n",
    "    else:\n",
    "            print(\"g is greater than h\")\n",
    "        "
   ]
  },
  {
   "cell_type": "markdown",
   "metadata": {},
   "source": [
    "## BMI Calculater "
   ]
  },
  {
   "cell_type": "code",
   "execution_count": 8,
   "metadata": {},
   "outputs": [
    {
     "name": "stdout",
     "output_type": "stream",
     "text": [
      "bmi:  \n",
      "33.057851239669425\n",
      "Varun\n",
      " is overWeight\n"
     ]
    }
   ],
   "source": [
    "name = \"Varun\"\n",
    "height_m =1.65 \n",
    "weight_kg = 90\n",
    "\n",
    "bmi = weight_kg / (height_m ** 2)\n",
    "print(\"bmi:  \")\n",
    "print(bmi)\n",
    "if bmi < 25:\n",
    "    print(name)\n",
    "    print(\"is not overweight\")\n",
    "else :\n",
    "    print(name)\n",
    "    print(\" is overWeight\")"
   ]
  },
  {
   "cell_type": "code",
   "execution_count": null,
   "metadata": {},
   "outputs": [],
   "source": []
  },
  {
   "cell_type": "code",
   "execution_count": null,
   "metadata": {},
   "outputs": [],
   "source": []
  }
 ],
 "metadata": {
  "kernelspec": {
   "display_name": "Python 3",
   "language": "python",
   "name": "python3"
  },
  "language_info": {
   "codemirror_mode": {
    "name": "ipython",
    "version": 3
   },
   "file_extension": ".py",
   "mimetype": "text/x-python",
   "name": "python",
   "nbconvert_exporter": "python",
   "pygments_lexer": "ipython3",
   "version": "3.7.6"
  }
 },
 "nbformat": 4,
 "nbformat_minor": 4
}
